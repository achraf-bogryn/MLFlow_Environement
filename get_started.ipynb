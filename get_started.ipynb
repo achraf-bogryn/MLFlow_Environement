{
 "cells": [
  {
   "cell_type": "markdown",
   "id": "f33c8fe0",
   "metadata": {},
   "source": [
    "## MLFLow Tracking Server"
   ]
  },
  {
   "cell_type": "code",
   "execution_count": 2,
   "id": "3ffc03e8",
   "metadata": {},
   "outputs": [],
   "source": [
    "import mlflow"
   ]
  },
  {
   "cell_type": "code",
   "execution_count": 32,
   "id": "dadec52c",
   "metadata": {},
   "outputs": [],
   "source": [
    "mlflow.set_tracking_uri(\"http://127.0.0.1:5000\")"
   ]
  },
  {
   "cell_type": "code",
   "execution_count": 35,
   "id": "87d7db0c",
   "metadata": {},
   "outputs": [
    {
     "name": "stderr",
     "output_type": "stream",
     "text": [
      "2025/09/15 14:20:55 INFO mlflow.tracking.fluent: Experiment with name 'Check Localhost Connection' does not exist. Creating a new experiment.\n"
     ]
    },
    {
     "name": "stdout",
     "output_type": "stream",
     "text": [
      "🏃 View run illustrious-newt-55 at: http://127.0.0.1:5000/#/experiments/317931212414105229/runs/5863e91ec022443395fd562261ae46a8\n",
      "🧪 View experiment at: http://127.0.0.1:5000/#/experiments/317931212414105229\n"
     ]
    }
   ],
   "source": [
    "mlflow.set_experiment(\"Check Localhost Connection\")\n",
    "\n",
    "with mlflow.start_run():\n",
    "    mlflow.log_metric(\"test\",1)\n",
    "    mlflow.log_metric(\"achraff\",2)"
   ]
  },
  {
   "cell_type": "code",
   "execution_count": 36,
   "id": "4330c069",
   "metadata": {},
   "outputs": [
    {
     "name": "stdout",
     "output_type": "stream",
     "text": [
      "🏃 View run dazzling-bee-28 at: http://127.0.0.1:5000/#/experiments/317931212414105229/runs/aea8a9e793ea4de587765f819da8e43c\n",
      "🧪 View experiment at: http://127.0.0.1:5000/#/experiments/317931212414105229\n"
     ]
    }
   ],
   "source": [
    "with mlflow.start_run():\n",
    "    mlflow.log_metric(\"test1\",1)\n",
    "    mlflow.log_metric(\"ahraf1\",2)"
   ]
  },
  {
   "cell_type": "code",
   "execution_count": 37,
   "id": "53fb8f61",
   "metadata": {},
   "outputs": [
    {
     "name": "stdout",
     "output_type": "stream",
     "text": [
      "🏃 View run zealous-elk-258 at: http://127.0.0.1:5000/#/experiments/317931212414105229/runs/048d9224926440e88407813cb5eba7f0\n",
      "🧪 View experiment at: http://127.0.0.1:5000/#/experiments/317931212414105229\n"
     ]
    }
   ],
   "source": [
    "with mlflow.start_run():\n",
    "    mlflow.log_metric(\"test2\",1)\n",
    "    mlflow.log_metric(\"achraf2\",2)"
   ]
  }
 ],
 "metadata": {
  "kernelspec": {
   "display_name": "Python 3",
   "language": "python",
   "name": "python3"
  },
  "language_info": {
   "codemirror_mode": {
    "name": "ipython",
    "version": 3
   },
   "file_extension": ".py",
   "mimetype": "text/x-python",
   "name": "python",
   "nbconvert_exporter": "python",
   "pygments_lexer": "ipython3",
   "version": "3.10.0"
  }
 },
 "nbformat": 4,
 "nbformat_minor": 5
}
